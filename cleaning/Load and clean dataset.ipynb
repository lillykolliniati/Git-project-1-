{
 "cells": [
  {
   "cell_type": "code",
   "execution_count": 1,
   "id": "d8010a6e-3ea5-4bf8-b36b-43e3a1290d24",
   "metadata": {},
   "outputs": [],
   "source": [
    "#import libraries \n",
    "\n",
    "import pandas as pd\n",
    "import numpy as np\n",
    "import matplotlib.pyplot as plt\n",
    "import seaborn as sns\n",
    "\n",
    "import warnings\n",
    "warnings.simplefilter(action='ignore', category=FutureWarning)"
   ]
  },
  {
   "cell_type": "code",
   "execution_count": 7,
   "id": "a8186a92-40a4-4148-a26d-333670f1d329",
   "metadata": {},
   "outputs": [],
   "source": [
    "#read my files\n",
    "\n",
    "df_titles = pd.read_csv('titles.csv')\n",
    "df_credits = pd.read_csv('credits.csv')\n",
    "\n",
    "#pd.set_option('display.max_columns', None)\n",
    "#pd.set_option('display.max_rows', None)"
   ]
  },
  {
   "cell_type": "code",
   "execution_count": 8,
   "id": "69882a27-e25d-4e75-8dcd-aace06b86196",
   "metadata": {},
   "outputs": [],
   "source": [
    "#create copies of the dataset \n",
    "\n",
    "dft = df_titles.copy()\n",
    "dfc = df_credits.copy()"
   ]
  },
  {
   "cell_type": "code",
   "execution_count": 11,
   "id": "b01fa47d-9c80-40c3-8c72-874d690cd6a0",
   "metadata": {},
   "outputs": [
    {
     "data": {
      "text/plain": [
       "(5850, 15)"
      ]
     },
     "execution_count": 11,
     "metadata": {},
     "output_type": "execute_result"
    }
   ],
   "source": [
    "dft.shape"
   ]
  },
  {
   "cell_type": "code",
   "execution_count": 9,
   "id": "b450435f-bff5-4273-844b-fb76cbef67e1",
   "metadata": {},
   "outputs": [
    {
     "name": "stdout",
     "output_type": "stream",
     "text": [
      "<class 'pandas.core.frame.DataFrame'>\n",
      "RangeIndex: 5850 entries, 0 to 5849\n",
      "Data columns (total 15 columns):\n",
      " #   Column                Non-Null Count  Dtype  \n",
      "---  ------                --------------  -----  \n",
      " 0   id                    5850 non-null   object \n",
      " 1   title                 5849 non-null   object \n",
      " 2   type                  5850 non-null   object \n",
      " 3   description           5832 non-null   object \n",
      " 4   release_year          5850 non-null   int64  \n",
      " 5   age_certification     3231 non-null   object \n",
      " 6   runtime               5850 non-null   int64  \n",
      " 7   genres                5850 non-null   object \n",
      " 8   production_countries  5850 non-null   object \n",
      " 9   seasons               2106 non-null   float64\n",
      " 10  imdb_id               5447 non-null   object \n",
      " 11  imdb_score            5368 non-null   float64\n",
      " 12  imdb_votes            5352 non-null   float64\n",
      " 13  tmdb_popularity       5759 non-null   float64\n",
      " 14  tmdb_score            5539 non-null   float64\n",
      "dtypes: float64(5), int64(2), object(8)\n",
      "memory usage: 685.7+ KB\n"
     ]
    }
   ],
   "source": [
    "dft.info()"
   ]
  },
  {
   "cell_type": "code",
   "execution_count": 10,
   "id": "45a7c234-721e-43d0-b400-23a5e7fee917",
   "metadata": {},
   "outputs": [
    {
     "data": {
      "text/plain": [
       "id                         0\n",
       "title                      1\n",
       "type                       0\n",
       "description               18\n",
       "release_year               0\n",
       "age_certification       2619\n",
       "runtime                    0\n",
       "genres                     0\n",
       "production_countries       0\n",
       "seasons                 3744\n",
       "imdb_id                  403\n",
       "imdb_score               482\n",
       "imdb_votes               498\n",
       "tmdb_popularity           91\n",
       "tmdb_score               311\n",
       "dtype: int64"
      ]
     },
     "execution_count": 10,
     "metadata": {},
     "output_type": "execute_result"
    }
   ],
   "source": [
    "dft.isnull().sum()"
   ]
  },
  {
   "cell_type": "code",
   "execution_count": 12,
   "id": "a78b5cae-b282-4367-bfd7-0898e03d55d4",
   "metadata": {},
   "outputs": [
    {
     "data": {
      "text/plain": [
       "(77801, 5)"
      ]
     },
     "execution_count": 12,
     "metadata": {},
     "output_type": "execute_result"
    }
   ],
   "source": [
    "dfc.shape"
   ]
  },
  {
   "cell_type": "code",
   "execution_count": 13,
   "id": "2c5dc76b-d806-4b91-a013-07030e7ab12b",
   "metadata": {},
   "outputs": [
    {
     "name": "stdout",
     "output_type": "stream",
     "text": [
      "<class 'pandas.core.frame.DataFrame'>\n",
      "RangeIndex: 77801 entries, 0 to 77800\n",
      "Data columns (total 5 columns):\n",
      " #   Column     Non-Null Count  Dtype \n",
      "---  ------     --------------  ----- \n",
      " 0   person_id  77801 non-null  int64 \n",
      " 1   id         77801 non-null  object\n",
      " 2   name       77801 non-null  object\n",
      " 3   character  68029 non-null  object\n",
      " 4   role       77801 non-null  object\n",
      "dtypes: int64(1), object(4)\n",
      "memory usage: 3.0+ MB\n"
     ]
    }
   ],
   "source": [
    "dfc.info()"
   ]
  },
  {
   "cell_type": "code",
   "execution_count": 14,
   "id": "8e424d2d-0dbb-4912-9ff4-cfdde5d1f11b",
   "metadata": {},
   "outputs": [
    {
     "data": {
      "text/plain": [
       "person_id       0\n",
       "id              0\n",
       "name            0\n",
       "character    9772\n",
       "role            0\n",
       "dtype: int64"
      ]
     },
     "execution_count": 14,
     "metadata": {},
     "output_type": "execute_result"
    }
   ],
   "source": [
    "dfc.isnull().sum()"
   ]
  },
  {
   "cell_type": "code",
   "execution_count": 26,
   "id": "bb68dedc-6b35-46da-8247-ee09379501cf",
   "metadata": {},
   "outputs": [
    {
     "data": {
      "text/plain": [
       "(4729, 15)"
      ]
     },
     "execution_count": 26,
     "metadata": {},
     "output_type": "execute_result"
    }
   ],
   "source": [
    "df_1522= dft[dft['release_year'] >= 2015]\n",
    "df_1522['release_year'].unique()\n",
    "df_1522.shape"
   ]
  },
  {
   "cell_type": "code",
   "execution_count": 32,
   "id": "10913432-c12f-40ba-9b09-2fa5de804c06",
   "metadata": {},
   "outputs": [
    {
     "data": {
      "text/plain": [
       "(4550, 5)"
      ]
     },
     "execution_count": 32,
     "metadata": {},
     "output_type": "execute_result"
    }
   ],
   "source": [
    "directors = dfc[dfc['role'] == 'DIRECTOR']\n",
    "directors.shape"
   ]
  },
  {
   "cell_type": "code",
   "execution_count": 34,
   "id": "7245e460-ba73-4bb8-bb68-6681a15898b5",
   "metadata": {},
   "outputs": [
    {
     "data": {
      "text/html": [
       "<div>\n",
       "<style scoped>\n",
       "    .dataframe tbody tr th:only-of-type {\n",
       "        vertical-align: middle;\n",
       "    }\n",
       "\n",
       "    .dataframe tbody tr th {\n",
       "        vertical-align: top;\n",
       "    }\n",
       "\n",
       "    .dataframe thead th {\n",
       "        text-align: right;\n",
       "    }\n",
       "</style>\n",
       "<table border=\"1\" class=\"dataframe\">\n",
       "  <thead>\n",
       "    <tr style=\"text-align: right;\">\n",
       "      <th></th>\n",
       "      <th>id</th>\n",
       "      <th>title</th>\n",
       "      <th>type</th>\n",
       "      <th>description</th>\n",
       "      <th>release_year</th>\n",
       "      <th>age_certification</th>\n",
       "      <th>runtime</th>\n",
       "      <th>genres</th>\n",
       "      <th>production_countries</th>\n",
       "      <th>seasons</th>\n",
       "      <th>imdb_id</th>\n",
       "      <th>imdb_score</th>\n",
       "      <th>imdb_votes</th>\n",
       "      <th>tmdb_popularity</th>\n",
       "      <th>tmdb_score</th>\n",
       "      <th>person_id</th>\n",
       "      <th>name</th>\n",
       "      <th>character</th>\n",
       "      <th>role</th>\n",
       "    </tr>\n",
       "  </thead>\n",
       "  <tbody>\n",
       "    <tr>\n",
       "      <th>0</th>\n",
       "      <td>ts8</td>\n",
       "      <td>Better Call Saul</td>\n",
       "      <td>SHOW</td>\n",
       "      <td>Six years before Saul Goodman meets Walter Whi...</td>\n",
       "      <td>2015</td>\n",
       "      <td>TV-MA</td>\n",
       "      <td>49</td>\n",
       "      <td>['drama', 'crime']</td>\n",
       "      <td>['US']</td>\n",
       "      <td>6.0</td>\n",
       "      <td>tt3032476</td>\n",
       "      <td>8.8</td>\n",
       "      <td>438575.0</td>\n",
       "      <td>273.296</td>\n",
       "      <td>8.500</td>\n",
       "      <td>NaN</td>\n",
       "      <td>NaN</td>\n",
       "      <td>NaN</td>\n",
       "      <td>NaN</td>\n",
       "    </tr>\n",
       "    <tr>\n",
       "      <th>1</th>\n",
       "      <td>ts37143</td>\n",
       "      <td>Alone</td>\n",
       "      <td>SHOW</td>\n",
       "      <td>Hardcore survivalists are put by themselves in...</td>\n",
       "      <td>2015</td>\n",
       "      <td>TV-MA</td>\n",
       "      <td>51</td>\n",
       "      <td>['reality', 'documentation']</td>\n",
       "      <td>['US']</td>\n",
       "      <td>9.0</td>\n",
       "      <td>tt4803766</td>\n",
       "      <td>8.4</td>\n",
       "      <td>5037.0</td>\n",
       "      <td>26.930</td>\n",
       "      <td>7.000</td>\n",
       "      <td>NaN</td>\n",
       "      <td>NaN</td>\n",
       "      <td>NaN</td>\n",
       "      <td>NaN</td>\n",
       "    </tr>\n",
       "    <tr>\n",
       "      <th>2</th>\n",
       "      <td>ts38796</td>\n",
       "      <td>Stranger Things</td>\n",
       "      <td>SHOW</td>\n",
       "      <td>When a young boy vanishes, a small town uncove...</td>\n",
       "      <td>2016</td>\n",
       "      <td>TV-14</td>\n",
       "      <td>61</td>\n",
       "      <td>['scifi', 'thriller', 'drama', 'fantasy', 'hor...</td>\n",
       "      <td>['US']</td>\n",
       "      <td>5.0</td>\n",
       "      <td>tt4574334</td>\n",
       "      <td>8.7</td>\n",
       "      <td>1101055.0</td>\n",
       "      <td>2226.231</td>\n",
       "      <td>8.635</td>\n",
       "      <td>NaN</td>\n",
       "      <td>NaN</td>\n",
       "      <td>NaN</td>\n",
       "      <td>NaN</td>\n",
       "    </tr>\n",
       "    <tr>\n",
       "      <th>3</th>\n",
       "      <td>ts21867</td>\n",
       "      <td>Schitt's Creek</td>\n",
       "      <td>SHOW</td>\n",
       "      <td>Formerly filthy rich video store magnate Johnn...</td>\n",
       "      <td>2015</td>\n",
       "      <td>TV-14</td>\n",
       "      <td>22</td>\n",
       "      <td>['comedy']</td>\n",
       "      <td>['CA']</td>\n",
       "      <td>6.0</td>\n",
       "      <td>tt3526078</td>\n",
       "      <td>8.5</td>\n",
       "      <td>115758.0</td>\n",
       "      <td>25.254</td>\n",
       "      <td>7.600</td>\n",
       "      <td>NaN</td>\n",
       "      <td>NaN</td>\n",
       "      <td>NaN</td>\n",
       "      <td>NaN</td>\n",
       "    </tr>\n",
       "    <tr>\n",
       "      <th>4</th>\n",
       "      <td>ts41766</td>\n",
       "      <td>The Good Place</td>\n",
       "      <td>SHOW</td>\n",
       "      <td>Eleanor Shellstrop, an ordinary woman who, thr...</td>\n",
       "      <td>2016</td>\n",
       "      <td>TV-14</td>\n",
       "      <td>23</td>\n",
       "      <td>['scifi', 'romance', 'comedy', 'drama', 'fanta...</td>\n",
       "      <td>['US']</td>\n",
       "      <td>4.0</td>\n",
       "      <td>tt4955642</td>\n",
       "      <td>8.2</td>\n",
       "      <td>152884.0</td>\n",
       "      <td>33.793</td>\n",
       "      <td>8.000</td>\n",
       "      <td>NaN</td>\n",
       "      <td>NaN</td>\n",
       "      <td>NaN</td>\n",
       "      <td>NaN</td>\n",
       "    </tr>\n",
       "    <tr>\n",
       "      <th>...</th>\n",
       "      <td>...</td>\n",
       "      <td>...</td>\n",
       "      <td>...</td>\n",
       "      <td>...</td>\n",
       "      <td>...</td>\n",
       "      <td>...</td>\n",
       "      <td>...</td>\n",
       "      <td>...</td>\n",
       "      <td>...</td>\n",
       "      <td>...</td>\n",
       "      <td>...</td>\n",
       "      <td>...</td>\n",
       "      <td>...</td>\n",
       "      <td>...</td>\n",
       "      <td>...</td>\n",
       "      <td>...</td>\n",
       "      <td>...</td>\n",
       "      <td>...</td>\n",
       "      <td>...</td>\n",
       "    </tr>\n",
       "    <tr>\n",
       "      <th>5165</th>\n",
       "      <td>tm1014599</td>\n",
       "      <td>Fine Wine</td>\n",
       "      <td>MOVIE</td>\n",
       "      <td>A beautiful love story that can happen between...</td>\n",
       "      <td>2021</td>\n",
       "      <td>NaN</td>\n",
       "      <td>100</td>\n",
       "      <td>['romance', 'drama']</td>\n",
       "      <td>['NG']</td>\n",
       "      <td>NaN</td>\n",
       "      <td>tt13857480</td>\n",
       "      <td>6.8</td>\n",
       "      <td>45.0</td>\n",
       "      <td>1.466</td>\n",
       "      <td>NaN</td>\n",
       "      <td>1962840.0</td>\n",
       "      <td>Seyi Babatope</td>\n",
       "      <td>NaN</td>\n",
       "      <td>DIRECTOR</td>\n",
       "    </tr>\n",
       "    <tr>\n",
       "      <th>5166</th>\n",
       "      <td>tm898842</td>\n",
       "      <td>C/O Kaadhal</td>\n",
       "      <td>MOVIE</td>\n",
       "      <td>A heart warming film that explores the concept...</td>\n",
       "      <td>2021</td>\n",
       "      <td>NaN</td>\n",
       "      <td>134</td>\n",
       "      <td>['drama']</td>\n",
       "      <td>[]</td>\n",
       "      <td>NaN</td>\n",
       "      <td>tt11803618</td>\n",
       "      <td>7.7</td>\n",
       "      <td>348.0</td>\n",
       "      <td>NaN</td>\n",
       "      <td>NaN</td>\n",
       "      <td>NaN</td>\n",
       "      <td>NaN</td>\n",
       "      <td>NaN</td>\n",
       "      <td>NaN</td>\n",
       "    </tr>\n",
       "    <tr>\n",
       "      <th>5167</th>\n",
       "      <td>tm1059008</td>\n",
       "      <td>Lokillo</td>\n",
       "      <td>MOVIE</td>\n",
       "      <td>A controversial TV host and comedian who has b...</td>\n",
       "      <td>2021</td>\n",
       "      <td>NaN</td>\n",
       "      <td>90</td>\n",
       "      <td>['comedy']</td>\n",
       "      <td>['CO']</td>\n",
       "      <td>NaN</td>\n",
       "      <td>tt14585902</td>\n",
       "      <td>3.8</td>\n",
       "      <td>68.0</td>\n",
       "      <td>26.005</td>\n",
       "      <td>6.300</td>\n",
       "      <td>1950416.0</td>\n",
       "      <td>Julian Gaviria</td>\n",
       "      <td>NaN</td>\n",
       "      <td>DIRECTOR</td>\n",
       "    </tr>\n",
       "    <tr>\n",
       "      <th>5168</th>\n",
       "      <td>tm1035612</td>\n",
       "      <td>Dad Stop Embarrassing Me - The Afterparty</td>\n",
       "      <td>MOVIE</td>\n",
       "      <td>Jamie Foxx, David Alan Grier and more from the...</td>\n",
       "      <td>2021</td>\n",
       "      <td>PG-13</td>\n",
       "      <td>37</td>\n",
       "      <td>[]</td>\n",
       "      <td>['US']</td>\n",
       "      <td>NaN</td>\n",
       "      <td>NaN</td>\n",
       "      <td>NaN</td>\n",
       "      <td>NaN</td>\n",
       "      <td>1.296</td>\n",
       "      <td>10.000</td>\n",
       "      <td>NaN</td>\n",
       "      <td>NaN</td>\n",
       "      <td>NaN</td>\n",
       "      <td>NaN</td>\n",
       "    </tr>\n",
       "    <tr>\n",
       "      <th>5169</th>\n",
       "      <td>ts271048</td>\n",
       "      <td>Mighty Little Bheem: Kite Festival</td>\n",
       "      <td>SHOW</td>\n",
       "      <td>With winter behind them, Bheem and his townspe...</td>\n",
       "      <td>2021</td>\n",
       "      <td>NaN</td>\n",
       "      <td>7</td>\n",
       "      <td>['family', 'animation', 'comedy']</td>\n",
       "      <td>[]</td>\n",
       "      <td>1.0</td>\n",
       "      <td>tt13711094</td>\n",
       "      <td>7.8</td>\n",
       "      <td>18.0</td>\n",
       "      <td>2.289</td>\n",
       "      <td>10.000</td>\n",
       "      <td>NaN</td>\n",
       "      <td>NaN</td>\n",
       "      <td>NaN</td>\n",
       "      <td>NaN</td>\n",
       "    </tr>\n",
       "  </tbody>\n",
       "</table>\n",
       "<p>5170 rows × 19 columns</p>\n",
       "</div>"
      ],
      "text/plain": [
       "             id                                      title   type  \\\n",
       "0           ts8                           Better Call Saul   SHOW   \n",
       "1       ts37143                                      Alone   SHOW   \n",
       "2       ts38796                            Stranger Things   SHOW   \n",
       "3       ts21867                             Schitt's Creek   SHOW   \n",
       "4       ts41766                             The Good Place   SHOW   \n",
       "...         ...                                        ...    ...   \n",
       "5165  tm1014599                                  Fine Wine  MOVIE   \n",
       "5166   tm898842                                C/O Kaadhal  MOVIE   \n",
       "5167  tm1059008                                    Lokillo  MOVIE   \n",
       "5168  tm1035612  Dad Stop Embarrassing Me - The Afterparty  MOVIE   \n",
       "5169   ts271048         Mighty Little Bheem: Kite Festival   SHOW   \n",
       "\n",
       "                                            description  release_year  \\\n",
       "0     Six years before Saul Goodman meets Walter Whi...          2015   \n",
       "1     Hardcore survivalists are put by themselves in...          2015   \n",
       "2     When a young boy vanishes, a small town uncove...          2016   \n",
       "3     Formerly filthy rich video store magnate Johnn...          2015   \n",
       "4     Eleanor Shellstrop, an ordinary woman who, thr...          2016   \n",
       "...                                                 ...           ...   \n",
       "5165  A beautiful love story that can happen between...          2021   \n",
       "5166  A heart warming film that explores the concept...          2021   \n",
       "5167  A controversial TV host and comedian who has b...          2021   \n",
       "5168  Jamie Foxx, David Alan Grier and more from the...          2021   \n",
       "5169  With winter behind them, Bheem and his townspe...          2021   \n",
       "\n",
       "     age_certification  runtime  \\\n",
       "0                TV-MA       49   \n",
       "1                TV-MA       51   \n",
       "2                TV-14       61   \n",
       "3                TV-14       22   \n",
       "4                TV-14       23   \n",
       "...                ...      ...   \n",
       "5165               NaN      100   \n",
       "5166               NaN      134   \n",
       "5167               NaN       90   \n",
       "5168             PG-13       37   \n",
       "5169               NaN        7   \n",
       "\n",
       "                                                 genres production_countries  \\\n",
       "0                                    ['drama', 'crime']               ['US']   \n",
       "1                          ['reality', 'documentation']               ['US']   \n",
       "2     ['scifi', 'thriller', 'drama', 'fantasy', 'hor...               ['US']   \n",
       "3                                            ['comedy']               ['CA']   \n",
       "4     ['scifi', 'romance', 'comedy', 'drama', 'fanta...               ['US']   \n",
       "...                                                 ...                  ...   \n",
       "5165                               ['romance', 'drama']               ['NG']   \n",
       "5166                                          ['drama']                   []   \n",
       "5167                                         ['comedy']               ['CO']   \n",
       "5168                                                 []               ['US']   \n",
       "5169                  ['family', 'animation', 'comedy']                   []   \n",
       "\n",
       "      seasons     imdb_id  imdb_score  imdb_votes  tmdb_popularity  \\\n",
       "0         6.0   tt3032476         8.8    438575.0          273.296   \n",
       "1         9.0   tt4803766         8.4      5037.0           26.930   \n",
       "2         5.0   tt4574334         8.7   1101055.0         2226.231   \n",
       "3         6.0   tt3526078         8.5    115758.0           25.254   \n",
       "4         4.0   tt4955642         8.2    152884.0           33.793   \n",
       "...       ...         ...         ...         ...              ...   \n",
       "5165      NaN  tt13857480         6.8        45.0            1.466   \n",
       "5166      NaN  tt11803618         7.7       348.0              NaN   \n",
       "5167      NaN  tt14585902         3.8        68.0           26.005   \n",
       "5168      NaN         NaN         NaN         NaN            1.296   \n",
       "5169      1.0  tt13711094         7.8        18.0            2.289   \n",
       "\n",
       "      tmdb_score  person_id            name character      role  \n",
       "0          8.500        NaN             NaN       NaN       NaN  \n",
       "1          7.000        NaN             NaN       NaN       NaN  \n",
       "2          8.635        NaN             NaN       NaN       NaN  \n",
       "3          7.600        NaN             NaN       NaN       NaN  \n",
       "4          8.000        NaN             NaN       NaN       NaN  \n",
       "...          ...        ...             ...       ...       ...  \n",
       "5165         NaN  1962840.0   Seyi Babatope       NaN  DIRECTOR  \n",
       "5166         NaN        NaN             NaN       NaN       NaN  \n",
       "5167       6.300  1950416.0  Julian Gaviria       NaN  DIRECTOR  \n",
       "5168      10.000        NaN             NaN       NaN       NaN  \n",
       "5169      10.000        NaN             NaN       NaN       NaN  \n",
       "\n",
       "[5170 rows x 19 columns]"
      ]
     },
     "execution_count": 34,
     "metadata": {},
     "output_type": "execute_result"
    }
   ],
   "source": [
    "df_combo = pd.merge(left = df_1522, right = directors, on = 'id', how = 'left')\n",
    "df_combo"
   ]
  },
  {
   "cell_type": "code",
   "execution_count": 37,
   "id": "9629b554-f309-4789-8706-5c6a70240340",
   "metadata": {},
   "outputs": [
    {
     "data": {
      "text/plain": [
       "4729"
      ]
     },
     "execution_count": 37,
     "metadata": {},
     "output_type": "execute_result"
    }
   ],
   "source": [
    "df_combo['id'].nunique()\n"
   ]
  },
  {
   "cell_type": "code",
   "execution_count": null,
   "id": "8522ffa1-0de2-4f05-95da-24ad0d9e21f4",
   "metadata": {},
   "outputs": [],
   "source": []
  },
  {
   "cell_type": "code",
   "execution_count": null,
   "id": "07534c3e-ea20-4867-afa3-f94a083e9bc4",
   "metadata": {},
   "outputs": [],
   "source": []
  }
 ],
 "metadata": {
  "kernelspec": {
   "display_name": "Python 3 (ipykernel)",
   "language": "python",
   "name": "python3"
  },
  "language_info": {
   "codemirror_mode": {
    "name": "ipython",
    "version": 3
   },
   "file_extension": ".py",
   "mimetype": "text/x-python",
   "name": "python",
   "nbconvert_exporter": "python",
   "pygments_lexer": "ipython3",
   "version": "3.9.7"
  }
 },
 "nbformat": 4,
 "nbformat_minor": 5
}
